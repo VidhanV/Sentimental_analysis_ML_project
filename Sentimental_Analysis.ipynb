{
  "nbformat": 4,
  "nbformat_minor": 0,
  "metadata": {
    "colab": {
      "provenance": [],
      "mount_file_id": "17CLlNHQzoLw84JezMjmdCrlcaOYPq6Q-",
      "authorship_tag": "ABX9TyPdqM7HOG/jA6hgjgEFiNFd",
      "include_colab_link": true
    },
    "kernelspec": {
      "name": "python3",
      "display_name": "Python 3"
    }
  },
  "cells": [
    {
      "cell_type": "markdown",
      "metadata": {
        "id": "view-in-github",
        "colab_type": "text"
      },
      "source": [
        "<a href=\"https://colab.research.google.com/github/VidhanV/Sentimental_analysis_ML_project/blob/main/Sentimental_Analysis.ipynb\" target=\"_parent\"><img src=\"https://colab.research.google.com/assets/colab-badge.svg\" alt=\"Open In Colab\"/></a>"
      ]
    },
    {
      "cell_type": "code",
      "metadata": {
        "id": "8H-zWDhHtUmx",
        "colab": {
          "base_uri": "https://localhost:8080/",
          "height": 88
        },
        "outputId": "5eed12b6-a7a7-447f-807f-ec4d33d9ac1e"
      },
      "source": [
        "import pandas as pd \n",
        "import numpy as np\n",
        "import re\n",
        "import collections\n",
        "import matplotlib.pyplot as plt\n",
        "import seaborn as sns\n",
        "sns.set(style=\"darkgrid\")\n",
        "sns.set(font_scale =2.0)\n",
        "from pathlib import Path\n",
        "\n",
        "# Packages for data preparation\n",
        "from sklearn.model_selection import train_test_split\n",
        "from nltk.corpus import stopwords\n",
        "from keras.preprocessing.text import Tokenizer\n",
        "from keras.preprocessing.sequence import pad_sequences\n",
        "from keras.utils.np_utils import to_categorical\n",
        "from sklearn.preprocessing import LabelEncoder\n",
        "\n",
        "# Packages for modeling\n",
        "from keras import models\n",
        "from keras import layers\n",
        "from keras import regularizers"
      ],
      "execution_count": null,
      "outputs": [
        {
          "output_type": "stream",
          "text": [
            "/usr/local/lib/python3.6/dist-packages/statsmodels/tools/_testing.py:19: FutureWarning: pandas.util.testing is deprecated. Use the functions in the public API at pandas.testing instead.\n",
            "  import pandas.util.testing as tm\n",
            "Using TensorFlow backend.\n"
          ],
          "name": "stderr"
        }
      ]
    },
    {
      "cell_type": "code",
      "metadata": {
        "id": "ynXf9RJltthy",
        "colab": {
          "base_uri": "https://localhost:8080/",
          "height": 529
        },
        "outputId": "98bf2598-aebc-4ede-bd42-3d2882c44bc6"
      },
      "source": [
        "df = pd.read_csv('/content/drive/My Drive/TCS/Tweets.csv')\n",
        "df = df.reindex(np.random.permutation(df.index))\n",
        "df = df[['text', 'airline_sentiment']]\n",
        "sns.factorplot(x='airline_sentiment', data=df, kind=\"count\", size=6, aspect=1.5, palette=\"GnBu_r\")\n",
        "plt.show();"
      ],
      "execution_count": null,
      "outputs": [
        {
          "output_type": "stream",
          "text": [
            "/usr/local/lib/python3.6/dist-packages/seaborn/categorical.py:3666: UserWarning: The `factorplot` function has been renamed to `catplot`. The original name will be removed in a future release. Please update your code. Note that the default `kind` in `factorplot` (`'point'`) has changed `'strip'` in `catplot`.\n",
            "  warnings.warn(msg)\n",
            "/usr/local/lib/python3.6/dist-packages/seaborn/categorical.py:3672: UserWarning: The `size` parameter has been renamed to `height`; please update your code.\n",
            "  warnings.warn(msg, UserWarning)\n"
          ],
          "name": "stderr"
        },
        {
          "output_type": "display_data",
          "data": {
            "image/png": "[encoded data removed]",
            "text/plain": [
              "<Figure size 648x432 with 1 Axes>"
            ]
          },
          "metadata": {
            "tags": [],
            "needs_background": "light"
          }
        }
      ]
    },
    {
      "cell_type": "code",
      "metadata": {
        "id": "b09Nll0ovJTz"
      },
      "source": [
        "NB_WORDS = 10000  # Parameter indicating the number of words we'll put in the dictionary\n",
        "VAL_SIZE = 1000  # Size of the validation set\n",
        "NB_START_EPOCHS = 20  # Number of epochs we usually start to train with\n",
        "BATCH_SIZE = 512  # Size of the batches used in the mini-batch gradient descent\n",
        "MAX_LEN = 24  # Maximum number of words in a sequence\n",
        "GLOVE_DIM = 50  # Number of dimensions of the GloVe word embeddings\n",
        "INPUT_PATH = '../input'  # Path where all input files are stored"
      ],
      "execution_count": null,
      "outputs": []
    },
    {
      "cell_type": "code",
      "metadata": {
        "id": "Ujbpg2rNvwEy"
      },
      "source": [
        "def deep_model(model, X_train, y_train, X_valid, y_valid):\n",
        "    '''\n",
        "    Function to train a multi-class model. The number of epochs and \n",
        "    batch_size are set by the constants at the top of the\n",
        "    notebook. \n",
        "    \n",
        "    Parameters:\n",
        "        model : model with the chosen architecture\n",
        "        X_train : training features\n",
        "        y_train : training target\n",
        "        X_valid : validation features\n",
        "        Y_valid : validation target\n",
        "    Output:\n",
        "        model training history\n",
        "    '''\n",
        "    model.compile(optimizer='rmsprop'\n",
        "                  , loss='categorical_crossentropy'\n",
        "                  , metrics=['accuracy'])\n",
        "    \n",
        "    history = model.fit(X_train\n",
        "                       , y_train\n",
        "                       , epochs=NB_START_EPOCHS\n",
        "                       , batch_size=BATCH_SIZE\n",
        "                       , validation_data=(X_valid, y_valid)\n",
        "                       , verbose=1)\n",
        "    return history\n",
        "\n",
        "\n",
        "def eval_metric(history, metric_name):\n",
        "    '''\n",
        "    Function to evaluate a trained model on a chosen metric. \n",
        "    Training and validation metric are plotted in a\n",
        "    line chart for each epoch.\n",
        "    \n",
        "    Parameters:\n",
        "        history : model training history\n",
        "        metric_name : loss or accuracy\n",
        "    Output:\n",
        "        line chart with epochs of x-axis and metric on\n",
        "        y-axis\n",
        "    '''\n",
        "    metric = history.history[metric_name]\n",
        "    val_metric = history.history['val_' + metric_name]\n",
        "\n",
        "    e = range(1, NB_START_EPOCHS + 1)\n",
        "\n",
        "    plt.plot(e, metric, 'bo', label='Train ' + metric_name)\n",
        "    plt.plot(e, val_metric, 'b', label='Validation ' + metric_name)\n",
        "    plt.legend()\n",
        "    plt.show()\n",
        "\n",
        "def test_model(model, X_train, y_train, X_test, y_test, epoch_stop):\n",
        "    '''\n",
        "    Function to test the model on new data after training it\n",
        "    on the full training data with the optimal number of epochs.\n",
        "    \n",
        "    Parameters:\n",
        "        model : trained model\n",
        "        X_train : training features\n",
        "        y_train : training target\n",
        "        X_test : test features\n",
        "        y_test : test target\n",
        "        epochs : optimal number of epochs\n",
        "    Output:\n",
        "        test accuracy and test loss\n",
        "    '''\n",
        "    model.fit(X_train\n",
        "              , y_train\n",
        "              , epochs=epoch_stop\n",
        "              , batch_size=BATCH_SIZE\n",
        "              , verbose=0)\n",
        "    results = model.evaluate(X_test, y_test)\n",
        "    \n",
        "    return results\n",
        "\n",
        "def remove_stopwords(input_text):\n",
        "    '''\n",
        "    Function to remove English stopwords from a Pandas Series.\n",
        "    \n",
        "    Parameters:\n",
        "        input_text : text to clean\n",
        "    Output:\n",
        "        cleaned Pandas Series \n",
        "    '''\n",
        "    stopwords_list = stopwords.words('english')\n",
        "    # Some words which might indicate a certain sentiment are kept via a whitelist\n",
        "    whitelist = [\"n't\", \"not\", \"no\"]\n",
        "    words = input_text.split() \n",
        "    clean_words = [word for word in words if (word not in stopwords_list or word in whitelist) and len(word) > 1] \n",
        "    return \" \".join(clean_words) \n",
        "    \n",
        "def remove_mentions(input_text):\n",
        "    '''\n",
        "    Function to remove mentions, preceded by @, in a Pandas Series\n",
        "    \n",
        "    Parameters:\n",
        "        input_text : text to clean\n",
        "    Output:\n",
        "        cleaned Pandas Series \n",
        "    '''\n",
        "    return re.sub(r'@\\w+', '', input_text)"
      ],
      "execution_count": null,
      "outputs": []
    },
    {
      "cell_type": "code",
      "metadata": {
        "id": "iGEDPyyKwGZi"
      },
      "source": [
        "import nltk\n",
        "nltk.download('stopwords')"
      ],
      "execution_count": null,
      "outputs": []
    },
    {
      "cell_type": "code",
      "metadata": {
        "id": "w_MbtIuZv6FK"
      },
      "source": [
        "\n",
        "df.text = df.text.apply(remove_stopwords).apply(remove_mentions)\n"
      ],
      "execution_count": null,
      "outputs": []
    },
    {
      "cell_type": "code",
      "metadata": {
        "id": "es3dFLURwKaa",
        "colab": {
          "base_uri": "https://localhost:8080/",
          "height": 51
        },
        "outputId": "7da02ff4-d073-4ff9-ba53-9d64325306b3"
      },
      "source": [
        "X_train, X_test, y_train, y_test = train_test_split(df.text, df.airline_sentiment, test_size=0.1, random_state=37)\n",
        "print('# Train data samples:', X_train.shape[0])\n",
        "print('# Test data samples:', X_test.shape[0])\n",
        "assert X_train.shape[0] == y_train.shape[0]\n",
        "assert X_test.shape[0] == y_test.shape[0]"
      ],
      "execution_count": null,
      "outputs": [
        {
          "output_type": "stream",
          "text": [
            "# Train data samples: 13176\n",
            "# Test data samples: 1464\n"
          ],
          "name": "stdout"
        }
      ]
    },
    {
      "cell_type": "code",
      "metadata": {
        "id": "2bIIbaOzwPKq"
      },
      "source": [
        "tk = Tokenizer(num_words=NB_WORDS,\n",
        "               filters='!\"#$%&()*+,-./:;<=>?@[\\\\]^_`{|}~\\t\\n',\n",
        "               lower=True,\n",
        "               split=\" \")\n",
        "tk.fit_on_texts(X_train)\n",
        "\n",
        "X_train_seq = tk.texts_to_sequences(X_train)\n",
        "X_test_seq = tk.texts_to_sequences(X_test)"
      ],
      "execution_count": null,
      "outputs": []
    },
    {
      "cell_type": "code",
      "metadata": {
        "id": "emKnsYOCwSrC",
        "colab": {
          "base_uri": "https://localhost:8080/",
          "height": 170
        },
        "outputId": "2b62ec79-eb30-436c-cd50-f3d67b5ea5b8"
      },
      "source": [
        "seq_lengths = X_train.apply(lambda x: len(x.split(' ')))\n",
        "seq_lengths.describe()"
      ],
      "execution_count": null,
      "outputs": [
        {
          "output_type": "execute_result",
          "data": {
            "text/plain": [
              "count    13176.000000\n",
              "mean        11.144809\n",
              "std          4.229020\n",
              "min          1.000000\n",
              "25%          8.000000\n",
              "50%         12.000000\n",
              "75%         14.000000\n",
              "max         24.000000\n",
              "Name: text, dtype: float64"
            ]
          },
          "metadata": {
            "tags": []
          },
          "execution_count": 10
        }
      ]
    },
    {
      "cell_type": "code",
      "metadata": {
        "id": "2CbpMlTewXCi"
      },
      "source": [
        "X_train_seq_trunc = pad_sequences(X_train_seq, maxlen=MAX_LEN)\n",
        "X_test_seq_trunc = pad_sequences(X_test_seq, maxlen=MAX_LEN)"
      ],
      "execution_count": null,
      "outputs": []
    },
    {
      "cell_type": "code",
      "metadata": {
        "id": "ZxPRrkanwbBS",
        "colab": {
          "base_uri": "https://localhost:8080/",
          "height": 51
        },
        "outputId": "10dd2321-d6d1-430a-c90b-e5508457a175"
      },
      "source": [
        "X_train_seq_trunc[10]"
      ],
      "execution_count": null,
      "outputs": [
        {
          "output_type": "execute_result",
          "data": {
            "text/plain": [
              "array([ 0,  0,  0,  0,  0,  0,  0,  0,  0,  0,  0,  0,  0,  0,  0,  0,  0,\n",
              "        0,  0,  0,  0,  0,  0, 11], dtype=int32)"
            ]
          },
          "metadata": {
            "tags": []
          },
          "execution_count": 12
        }
      ]
    },
    {
      "cell_type": "code",
      "metadata": {
        "id": "8_tcVgJkwe-L"
      },
      "source": [
        "le = LabelEncoder()\n",
        "y_train_le = le.fit_transform(y_train)\n",
        "y_test_le = le.transform(y_test)\n",
        "y_train_oh = to_categorical(y_train_le)\n",
        "y_test_oh = to_categorical(y_test_le)"
      ],
      "execution_count": null,
      "outputs": []
    },
    {
      "cell_type": "code",
      "metadata": {
        "id": "djhyqVZxwjB6",
        "colab": {
          "base_uri": "https://localhost:8080/",
          "height": 34
        },
        "outputId": "685b2e9c-eea6-4a5c-d855-39197c9492b9"
      },
      "source": [
        "X_train_emb, X_valid_emb, y_train_emb, y_valid_emb = train_test_split(X_train_seq_trunc, y_train_oh, test_size=0.1, random_state=37)\n",
        "\n",
        "assert X_valid_emb.shape[0] == y_valid_emb.shape[0]\n",
        "assert X_train_emb.shape[0] == y_train_emb.shape[0]\n",
        "\n",
        "print('Shape of validation set:',X_valid_emb.shape)"
      ],
      "execution_count": null,
      "outputs": [
        {
          "output_type": "stream",
          "text": [
            "Shape of validation set: (1318, 24)\n"
          ],
          "name": "stdout"
        }
      ]
    },
    {
      "cell_type": "code",
      "metadata": {
        "id": "iZ8A2ZSlwmJC",
        "colab": {
          "base_uri": "https://localhost:8080/",
          "height": 255
        },
        "outputId": "3c8f7039-d0f0-4ebb-897c-5da637015f60"
      },
      "source": [
        "emb_model = models.Sequential()\n",
        "emb_model.add(layers.Embedding(NB_WORDS, 8, input_length=MAX_LEN))\n",
        "emb_model.add(layers.Flatten())\n",
        "emb_model.add(layers.Dense(3, activation='softmax'))\n",
        "emb_model.summary()"
      ],
      "execution_count": null,
      "outputs": [
        {
          "output_type": "stream",
          "text": [
            "Model: \"sequential_1\"\n",
            "_________________________________________________________________\n",
            "Layer (type)                 Output Shape              Param #   \n",
            "=================================================================\n",
            "embedding_1 (Embedding)      (None, 24, 8)             80000     \n",
            "_________________________________________________________________\n",
            "flatten_1 (Flatten)          (None, 192)               0         \n",
            "_________________________________________________________________\n",
            "dense_1 (Dense)              (None, 3)                 579       \n",
            "=================================================================\n",
            "Total params: 80,579\n",
            "Trainable params: 80,579\n",
            "Non-trainable params: 0\n",
            "_________________________________________________________________\n"
          ],
          "name": "stdout"
        }
      ]
    },
    {
      "cell_type": "code",
      "metadata": {
        "id": "FuUap9Mlwpur",
        "colab": {
          "base_uri": "https://localhost:8080/",
          "height": 768
        },
        "outputId": "c9cce43d-3df4-4755-ddf9-cfe5600b1532"
      },
      "source": [
        "emb_history = deep_model(emb_model, X_train_emb, y_train_emb, X_valid_emb, y_valid_emb)"
      ],
      "execution_count": null,
      "outputs": [
        {
          "output_type": "stream",
          "text": [
            "/usr/local/lib/python3.6/dist-packages/tensorflow/python/framework/indexed_slices.py:434: UserWarning: Converting sparse IndexedSlices to a dense Tensor of unknown shape. This may consume a large amount of memory.\n",
            "  \"Converting sparse IndexedSlices to a dense Tensor of unknown shape. \"\n"
          ],
          "name": "stderr"
        },
        {
          "output_type": "stream",
          "text": [
            "Train on 11858 samples, validate on 1318 samples\n",
            "Epoch 1/20\n",
            "11858/11858 [==============================] - 0s 30us/step - loss: 1.0533 - accuracy: 0.5627 - val_loss: 1.0011 - val_accuracy: 0.6115\n",
            "Epoch 2/20\n",
            "11858/11858 [==============================] - 0s 6us/step - loss: 0.9470 - accuracy: 0.6284 - val_loss: 0.9230 - val_accuracy: 0.6115\n",
            "Epoch 3/20\n",
            "11858/11858 [==============================] - 0s 6us/step - loss: 0.8740 - accuracy: 0.6284 - val_loss: 0.8706 - val_accuracy: 0.6123\n",
            "Epoch 4/20\n",
            "11858/11858 [==============================] - 0s 6us/step - loss: 0.8192 - accuracy: 0.6295 - val_loss: 0.8218 - val_accuracy: 0.6184\n",
            "Epoch 5/20\n",
            "11858/11858 [==============================] - 0s 6us/step - loss: 0.7712 - accuracy: 0.6526 - val_loss: 0.7825 - val_accuracy: 0.6434\n",
            "Epoch 6/20\n",
            "11858/11858 [==============================] - 0s 6us/step - loss: 0.7324 - accuracy: 0.6772 - val_loss: 0.7532 - val_accuracy: 0.6563\n",
            "Epoch 7/20\n",
            "11858/11858 [==============================] - 0s 6us/step - loss: 0.6993 - accuracy: 0.6870 - val_loss: 0.7259 - val_accuracy: 0.6753\n",
            "Epoch 8/20\n",
            "11858/11858 [==============================] - 0s 6us/step - loss: 0.6680 - accuracy: 0.6993 - val_loss: 0.7025 - val_accuracy: 0.6851\n",
            "Epoch 9/20\n",
            "11858/11858 [==============================] - 0s 6us/step - loss: 0.6381 - accuracy: 0.7118 - val_loss: 0.6833 - val_accuracy: 0.6897\n",
            "Epoch 10/20\n",
            "11858/11858 [==============================] - 0s 6us/step - loss: 0.6100 - accuracy: 0.7285 - val_loss: 0.6652 - val_accuracy: 0.7033\n",
            "Epoch 11/20\n",
            "11858/11858 [==============================] - 0s 6us/step - loss: 0.5840 - accuracy: 0.7595 - val_loss: 0.6466 - val_accuracy: 0.7276\n",
            "Epoch 12/20\n",
            "11858/11858 [==============================] - 0s 7us/step - loss: 0.5594 - accuracy: 0.7773 - val_loss: 0.6346 - val_accuracy: 0.7314\n",
            "Epoch 13/20\n",
            "11858/11858 [==============================] - 0s 6us/step - loss: 0.5370 - accuracy: 0.7966 - val_loss: 0.6175 - val_accuracy: 0.7367\n",
            "Epoch 14/20\n",
            "11858/11858 [==============================] - 0s 6us/step - loss: 0.5155 - accuracy: 0.8128 - val_loss: 0.6067 - val_accuracy: 0.7436\n",
            "Epoch 15/20\n",
            "11858/11858 [==============================] - 0s 6us/step - loss: 0.4951 - accuracy: 0.8240 - val_loss: 0.5946 - val_accuracy: 0.7656\n",
            "Epoch 16/20\n",
            "11858/11858 [==============================] - 0s 6us/step - loss: 0.4756 - accuracy: 0.8381 - val_loss: 0.5867 - val_accuracy: 0.7686\n",
            "Epoch 17/20\n",
            "11858/11858 [==============================] - 0s 6us/step - loss: 0.4565 - accuracy: 0.8484 - val_loss: 0.5759 - val_accuracy: 0.7709\n",
            "Epoch 18/20\n",
            "11858/11858 [==============================] - 0s 6us/step - loss: 0.4384 - accuracy: 0.8534 - val_loss: 0.5676 - val_accuracy: 0.7853\n",
            "Epoch 19/20\n",
            "11858/11858 [==============================] - 0s 6us/step - loss: 0.4208 - accuracy: 0.8631 - val_loss: 0.5605 - val_accuracy: 0.7868\n",
            "Epoch 20/20\n",
            "11858/11858 [==============================] - 0s 7us/step - loss: 0.4037 - accuracy: 0.8711 - val_loss: 0.5550 - val_accuracy: 0.7815\n"
          ],
          "name": "stdout"
        }
      ]
    },
    {
      "cell_type": "code",
      "metadata": {
        "id": "VWWpcgwdwu6K",
        "colab": {
          "base_uri": "https://localhost:8080/",
          "height": 278
        },
        "outputId": "beafc0f5-4f0c-4da5-e8f3-117c8ac1d655"
      },
      "source": [
        "eval_metric(emb_history, 'accuracy')"
      ],
      "execution_count": null,
      "outputs": [
        {
          "output_type": "display_data",
          "data": {
            "image/png": "[encoded data removed]",
            "text/plain": [
              "<Figure size 432x288 with 1 Axes>"
            ]
          },
          "metadata": {
            "tags": [],
            "needs_background": "light"
          }
        }
      ]
    },
    {
      "cell_type": "code",
      "metadata": {
        "id": "BlKoo1XNw6oS",
        "colab": {
          "base_uri": "https://localhost:8080/",
          "height": 278
        },
        "outputId": "f85558ef-4979-4dce-af51-c414d6f530d3"
      },
      "source": [
        "eval_metric(emb_history, 'loss')"
      ],
      "execution_count": null,
      "outputs": [
        {
          "output_type": "display_data",
          "data": {
            "image/png": "[encoded data removed]",
            "text/plain": [
              "<Figure size 432x288 with 1 Axes>"
            ]
          },
          "metadata": {
            "tags": [],
            "needs_background": "light"
          }
        }
      ]
    },
    {
      "cell_type": "code",
      "metadata": {
        "id": "Xcj4lTZAw-lK",
        "colab": {
          "base_uri": "https://localhost:8080/",
          "height": 68
        },
        "outputId": "4e508a6d-93ca-48f9-fedd-13d45cd33adc"
      },
      "source": [
        "emb_results = test_model(emb_model, X_train_seq_trunc, y_train_oh, X_test_seq_trunc, y_test_oh, 6)\n",
        "print('/n')\n",
        "print('Test accuracy of word embeddings model: {0:.2f}%'.format(emb_results[1]*100))"
      ],
      "execution_count": null,
      "outputs": [
        {
          "output_type": "stream",
          "text": [
            "1464/1464 [==============================] - 0s 19us/step\n",
            "/n\n",
            "Test accuracy of word embeddings model: 79.30%\n"
          ],
          "name": "stdout"
        }
      ]
    }
  ]
}